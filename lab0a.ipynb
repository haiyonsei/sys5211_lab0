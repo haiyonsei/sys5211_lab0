{
 "cells": [
  {
   "cell_type": "markdown",
   "id": "fac37d2c-cc4e-409e-9b75-e787530c608b",
   "metadata": {
    "deletable": true,
    "editable": true,
    "nbgrader": {
     "cell_type": "markdown",
     "checksum": "bf572b127f3e8910bfdc7a55242f088b",
     "grade": false,
     "grade_id": "cell-c2d5066b268e9c4c",
     "locked": true,
     "schema_version": 3,
     "solution": false,
     "task": false
    }
   },
   "source": [
    "Before you turn this lab in, make sure everything runs as expected. First, **restart the kernel** (in the menubar, select Kernel$\\rightarrow$Restart) and then **run all cells** (in the menubar, select Cell$\\rightarrow$Run All).\n",
    "\n",
    "Make sure you fill in any place that says `YOUR CODE HERE` or \"YOUR ANSWER HERE\".\n",
    "\n",
    "**Provide your name and any collaborators below:**"
   ]
  },
  {
   "cell_type": "markdown",
   "id": "92ec1905-1a43-469b-aa19-c0858c157e5c",
   "metadata": {
    "deletable": true,
    "nbgrader": {
     "cell_type": "markdown",
     "checksum": "14d52740faa5ccc0b543add03d8ebf6b",
     "grade": true,
     "grade_id": "name-collabs",
     "locked": false,
     "points": 0,
     "schema_version": 3,
     "solution": true,
     "task": false
    },
    "tags": []
   },
   "source": [
    "YOUR ANSWER HERE"
   ]
  },
  {
   "cell_type": "markdown",
   "id": "equal-helen",
   "metadata": {
    "cell_style": "center",
    "deletable": true,
    "editable": true,
    "nbgrader": {
     "cell_type": "markdown",
     "checksum": "dd64300a1e45d8303c86cfc1336a2fc6",
     "grade": false,
     "grade_id": "header",
     "locked": true,
     "schema_version": 3,
     "solution": false,
     "task": false
    },
    "slideshow": {
     "slide_type": "slide"
    }
   },
   "source": [
    "---\n",
    "# Lab 0 Intro to Scala and Chisel\n",
    ">  They are not intended take a significant amount of time but rather to provide examples/practice on specific and isolated features in the language. Labs are autograded so you can get quick feedback.\n",
    "\n",
    "### Import the necessary Chisel dependencies. \n",
    "> There will be cells like these in every lab. Make sure you run them before proceeding to bring the Chisel Library into the Jupyter Notebook scope!"
   ]
  },
  {
   "cell_type": "code",
   "execution_count": null,
   "id": "registered-expression",
   "metadata": {
    "deletable": true,
    "editable": true,
    "nbgrader": {
     "cell_type": "code",
     "checksum": "901d9fdacbe59a9692672c167d68ce88",
     "grade": false,
     "grade_id": "imports",
     "locked": true,
     "schema_version": 3,
     "solution": false,
     "task": false
    }
   },
   "outputs": [],
   "source": [
    "import $ivy.`edu.berkeley.cs::chisel3:3.5.3`\n",
    "import $ivy.`edu.berkeley.cs::chiseltest:0.5.3`\n",
    "import $plugin.$ivy.`edu.berkeley.cs:chisel3-plugin_2.12.15:3.5.3`\n",
    "import chisel3._\n",
    "import chisel3.util._\n",
    "import chiseltest._\n",
    "import chiseltest.RawTester.test\n",
    "import scala.language.reflectiveCalls"
   ]
  },
  {
   "cell_type": "markdown",
   "id": "raised-thong",
   "metadata": {
    "deletable": true,
    "editable": true,
    "nbgrader": {
     "cell_type": "markdown",
     "checksum": "63f0ff47a2a529e36411a5419098b23c",
     "grade": false,
     "grade_id": "conditionals-header",
     "locked": true,
     "schema_version": 3,
     "solution": false,
     "task": false
    }
   },
   "source": [
    "## Problem 1  - Scala conditionals\n",
    "> Practice with Scala's if/else. Return `\"heads\"` if `flip` is `true`, else return `\"tails\"`"
   ]
  },
  {
   "cell_type": "code",
   "execution_count": null,
   "id": "governing-madonna",
   "metadata": {
    "deletable": true,
    "nbgrader": {
     "cell_type": "code",
     "checksum": "7993e440bb620f0243da3ab5e675bf4f",
     "grade": false,
     "grade_id": "ScalaCondPractice",
     "locked": false,
     "schema_version": 3,
     "solution": true,
     "task": false
    }
   },
   "outputs": [],
   "source": [
    "def scalaCondPractice(flip: Boolean): String = {\n",
    "    // YOUR CODE HERE\n",
    "    ???\n",
    "}"
   ]
  },
  {
   "cell_type": "code",
   "execution_count": null,
   "id": "comparable-elevation",
   "metadata": {
    "deletable": true,
    "editable": true,
    "nbgrader": {
     "cell_type": "code",
     "checksum": "bf8fd19f2730b3d1a319fa0beb453760",
     "grade": true,
     "grade_id": "scp-test",
     "locked": true,
     "points": 2,
     "schema_version": 3,
     "solution": false,
     "task": false
    }
   },
   "outputs": [],
   "source": [
    "assert(scalaCondPractice(true) == \"heads\")\n",
    "assert(scalaCondPractice(false) == \"tails\")"
   ]
  },
  {
   "cell_type": "markdown",
   "id": "restricted-feelings",
   "metadata": {
    "deletable": true,
    "editable": true,
    "nbgrader": {
     "cell_type": "markdown",
     "checksum": "d547f48eb9cb8fce5dcf8220722f12fc",
     "grade": false,
     "grade_id": "cell-4310bf1dd699ea36",
     "locked": true,
     "schema_version": 3,
     "solution": false,
     "task": false
    }
   },
   "source": [
    "## Problem 2  - Writing a Chisel Module's IO\n",
    "> Fill in the IO in the module such that it takes two 3-bit `UInt`s as input and returns a 4-bit sum as output (no truncation). "
   ]
  },
  {
   "cell_type": "code",
   "execution_count": null,
   "id": "premier-heath",
   "metadata": {
    "deletable": true,
    "nbgrader": {
     "cell_type": "code",
     "checksum": "cd59f254738f810c7618a878a0c23055",
     "grade": false,
     "grade_id": "addTwo",
     "locked": false,
     "schema_version": 3,
     "solution": true,
     "task": false
    }
   },
   "outputs": [],
   "source": [
    "class AddTwo extends Module {\n",
    "    // val io = ???\n",
    "    // YOUR CODE HERE\n",
    "    ???\n",
    "    \n",
    "    io.out := io.in1 +& io.in2\n",
    "}"
   ]
  },
  {
   "cell_type": "code",
   "execution_count": null,
   "id": "recent-scoop",
   "metadata": {
    "deletable": true,
    "editable": true,
    "nbgrader": {
     "cell_type": "code",
     "checksum": "486b61122e60e25866ac4696ae6ec844",
     "grade": true,
     "grade_id": "testAddTwo",
     "locked": true,
     "points": 3,
     "schema_version": 3,
     "solution": false,
     "task": false
    }
   },
   "outputs": [],
   "source": [
    "def testAddTwo: Boolean = {\n",
    "    test(new AddTwo) { c =>\n",
    "        for (i <- 0 until 8) {\n",
    "            for (j <- 0 until 8) {\n",
    "                c.io.in1.poke(i.U)\n",
    "                c.io.in2.poke(j.U)\n",
    "                c.io.out.expect((i+j).U)\n",
    "            }\n",
    "        }\n",
    "    }\n",
    "    true\n",
    "}\n",
    "\n",
    "assert(testAddTwo)"
   ]
  },
  {
   "cell_type": "markdown",
   "id": "educated-order",
   "metadata": {
    "deletable": true,
    "editable": true,
    "nbgrader": {
     "cell_type": "markdown",
     "checksum": "d48a565a950e4266ec2c63ec78357e40",
     "grade": false,
     "grade_id": "CombLogic-header",
     "locked": true,
     "schema_version": 3,
     "solution": false,
     "task": false
    }
   },
   "source": [
    "## Problem 3  - Combinational Logic\n",
    "> Assign the boolean expression: `(a OR b) AND (NOT c)` to the module's output. "
   ]
  },
  {
   "cell_type": "code",
   "execution_count": null,
   "id": "simplified-scanning",
   "metadata": {
    "deletable": true,
    "nbgrader": {
     "cell_type": "code",
     "checksum": "a27cd34c4cd2b84dfd0e48f11bbb3f79",
     "grade": false,
     "grade_id": "CombLogic",
     "locked": false,
     "schema_version": 3,
     "solution": true,
     "task": false
    }
   },
   "outputs": [],
   "source": [
    "class CombLogic extends Module {\n",
    "    val io = IO(new Bundle {\n",
    "        val a   = Input(Bool())\n",
    "        val b   = Input(Bool())\n",
    "        val c   = Input(Bool())\n",
    "        val out = Output(Bool())\n",
    "    })\n",
    "    \n",
    "    // YOUR CODE HERE\n",
    "    ???\n",
    "    \n",
    "    // We can print state like this everytime `step()` is called in our test\n",
    "    printf(p\"a: ${io.a}, b: ${io.b}, c: ${io.c}, out: ${io.out}\\n\")\n",
    "}"
   ]
  },
  {
   "cell_type": "markdown",
   "id": "burning-terrorism",
   "metadata": {
    "deletable": true,
    "editable": true,
    "nbgrader": {
     "cell_type": "markdown",
     "checksum": "3b6add7366909048df6b08e432938729",
     "grade": false,
     "grade_id": "testCombLogic-header",
     "locked": true,
     "schema_version": 3,
     "solution": false,
     "task": false
    }
   },
   "source": [
    "## Problem 4  - Combinational Logic Test\n",
    "> Write your own test that tests `CombLogic` exhaustively for all input values `a, b, and c`. The module should return `true` if and only if all calls to `dut.io.out.expect(...)` succeed."
   ]
  },
  {
   "cell_type": "code",
   "execution_count": null,
   "id": "pacific-standing",
   "metadata": {
    "deletable": true,
    "nbgrader": {
     "cell_type": "code",
     "checksum": "1fc94d98a277009cd779b8741e55f10d",
     "grade": false,
     "grade_id": "testCombLogic",
     "locked": false,
     "schema_version": 3,
     "solution": true,
     "task": false
    }
   },
   "outputs": [],
   "source": [
    "def testCombLogic: Boolean = {\n",
    "    test(new CombLogic) { dut =>\n",
    "        \n",
    "        // YOUR CODE HERE\n",
    "        ???\n",
    "    }\n",
    "    true\n",
    "}"
   ]
  },
  {
   "cell_type": "code",
   "execution_count": null,
   "id": "severe-collins",
   "metadata": {
    "deletable": true,
    "editable": true,
    "nbgrader": {
     "cell_type": "code",
     "checksum": "9b3abea251458a75ffbd2b0e5a504c3a",
     "grade": true,
     "grade_id": "testCombLogic-test",
     "locked": true,
     "points": 4,
     "schema_version": 3,
     "solution": false,
     "task": false
    }
   },
   "outputs": [],
   "source": [
    "assert(testCombLogic)\n"
   ]
  },
  {
   "cell_type": "markdown",
   "id": "finnish-little",
   "metadata": {
    "deletable": true,
    "editable": true,
    "nbgrader": {
     "cell_type": "markdown",
     "checksum": "bbdc4fd9b18a6b7153e60250acddfc2a",
     "grade": false,
     "grade_id": "scalaCond-header",
     "locked": true,
     "schema_version": 3,
     "solution": false,
     "task": false
    }
   },
   "source": [
    "## Problem 5  - Scala Conditional in Chisel modules\n",
    "> At hardware ellaboration time, we can use Scala conditionals to change which hardware is created within a module. Implement the module such that if the `useAnd` argument is `true`, the generated hardware produces `a && b`, and otherwise produces `a || b`. The generated hardware should contain only `AND` logic or `OR` logic, but not both."
   ]
  },
  {
   "cell_type": "code",
   "execution_count": null,
   "id": "terminal-cleaners",
   "metadata": {
    "deletable": true,
    "nbgrader": {
     "cell_type": "code",
     "checksum": "8f023de2d1c4e162ab0877cbcc420f16",
     "grade": false,
     "grade_id": "AndOrCompileTime",
     "locked": false,
     "schema_version": 3,
     "solution": true,
     "task": false
    }
   },
   "outputs": [],
   "source": [
    "class AndOrGenerationTime(useAnd: Boolean) extends Module {\n",
    "    val io = IO(new Bundle {\n",
    "        val a   = Input(Bool())\n",
    "        val b   = Input(Bool())\n",
    "        val out = Output(Bool())\n",
    "    })\n",
    "    \n",
    "    // YOUR CODE HERE\n",
    "    ???\n",
    "}"
   ]
  },
  {
   "cell_type": "code",
   "execution_count": null,
   "id": "cathedral-indie",
   "metadata": {
    "deletable": true,
    "editable": true,
    "nbgrader": {
     "cell_type": "code",
     "checksum": "bf0a38f7260f4946ff5fad4cf8b14104",
     "grade": true,
     "grade_id": "testAndOrCompileTime",
     "locked": true,
     "points": 3,
     "schema_version": 3,
     "solution": false,
     "task": false
    }
   },
   "outputs": [],
   "source": [
    "def testAndOrGenerationTime(useAnd: Boolean): Boolean = {\n",
    "    test(new AndOrGenerationTime(useAnd)) { dut =>\n",
    "        for (a <- Seq(true, false)) {\n",
    "            for (b <- Seq(true, false)) {\n",
    "                dut.io.a.poke(a.B)\n",
    "                dut.io.b.poke(b.B)\n",
    "                if (useAnd) dut.io.out.expect((a && b).B)\n",
    "                else        dut.io.out.expect((a || b).B)\n",
    "            }\n",
    "        }\n",
    "    }\n",
    "    true\n",
    "}\n",
    "assert(testAndOrGenerationTime(useAnd = true))\n",
    "assert(testAndOrGenerationTime(useAnd = false))"
   ]
  },
  {
   "cell_type": "markdown",
   "id": "induced-brazilian",
   "metadata": {
    "deletable": true,
    "editable": true,
    "nbgrader": {
     "cell_type": "markdown",
     "checksum": "3f43fb18851d0528e9576cfb7d05ed25",
     "grade": false,
     "grade_id": "ChiselCond-header",
     "locked": true,
     "schema_version": 3,
     "solution": false,
     "task": false
    }
   },
   "source": [
    "## Problem 6  - Chisel Conditional in Chisel modules\n",
    "> Generated hardware can use conditionals (i.e `Mux` or `when/elsewhen/otherwise`) to select signals. In this exercise, `useAnd` is an `Input` to the module. If `useAnd` is `true`, then the output `out` should be `a && b`, otherwise `a || b`. In this problem, both the logic for `a && b` and `a || b` hardware should be generated. You may use either a Chisel `Mux` or the Chisel `when` statement."
   ]
  },
  {
   "cell_type": "code",
   "execution_count": null,
   "id": "legislative-barrier",
   "metadata": {
    "deletable": true,
    "nbgrader": {
     "cell_type": "code",
     "checksum": "ee80d14ac4ab33e27bfc94afeac4a973",
     "grade": false,
     "grade_id": "AndOrRunTime",
     "locked": false,
     "schema_version": 3,
     "solution": true,
     "task": false
    }
   },
   "outputs": [],
   "source": [
    "class AndOrRunTime extends Module {\n",
    "    val io = IO(new Bundle {\n",
    "        val a      = Input(Bool())\n",
    "        val b      = Input(Bool())\n",
    "        val useAnd = Input(Bool())\n",
    "        val out    = Output(Bool())\n",
    "    })\n",
    "    \n",
    "    // YOUR CODE HERE\n",
    "    ???\n",
    "}"
   ]
  },
  {
   "cell_type": "markdown",
   "id": "infrared-engineering",
   "metadata": {
    "deletable": true,
    "editable": true,
    "nbgrader": {
     "cell_type": "markdown",
     "checksum": "4d91bc409f7ecb689fd86f25215fd88b",
     "grade": false,
     "grade_id": "lastConnect-header",
     "locked": true,
     "schema_version": 3,
     "solution": false,
     "task": false
    }
   },
   "source": [
    "## Problem 7  - Last connect semantics\n",
    "> When connecting Chisel components, the last connection made is the one that \"wins\" (exists in the generated hardware). In the module below, the default output is `5.U` because `out` is connected to `5.U` after `4.U`. Use a `when` statement to conditionally connect `8.U` to the output when the input `update` is set high, or keep the default connection when `update` is set low."
   ]
  },
  {
   "cell_type": "code",
   "execution_count": null,
   "id": "accurate-farmer",
   "metadata": {
    "deletable": true,
    "nbgrader": {
     "cell_type": "code",
     "checksum": "b0c070b27061872fdcc548f6d47880a0",
     "grade": false,
     "grade_id": "LastConnect",
     "locked": false,
     "schema_version": 3,
     "solution": true,
     "task": false
    }
   },
   "outputs": [],
   "source": [
    "class LastConnect extends Module {\n",
    "    val io = IO(new Bundle {\n",
    "        val update = Input(Bool())\n",
    "        val out    = Output(UInt())\n",
    "    })\n",
    "    \n",
    "    io.out := 4.U\n",
    "    io.out := 5.U\n",
    "    // YOUR CODE HERE\n",
    "    ???\n",
    "    \n",
    "}"
   ]
  },
  {
   "cell_type": "code",
   "execution_count": null,
   "id": "formal-density",
   "metadata": {
    "deletable": true,
    "editable": true,
    "nbgrader": {
     "cell_type": "code",
     "checksum": "ffb5e29b04a2d3f1e532f6630dff1883",
     "grade": true,
     "grade_id": "testLastConnect",
     "locked": true,
     "points": 2,
     "schema_version": 3,
     "solution": false,
     "task": false
    }
   },
   "outputs": [],
   "source": [
    "def testLastConnect: Boolean = {\n",
    "    test(new LastConnect) { dut =>\n",
    "        dut.io.update.poke(true.B)\n",
    "        dut.io.out.expect(8.U)\n",
    "        \n",
    "        dut.io.update.poke(false.B)\n",
    "        dut.io.out.expect(5.U)\n",
    "    }\n",
    "    true\n",
    "}\n",
    "assert(testLastConnect)"
   ]
  },
  {
   "cell_type": "code",
   "execution_count": null,
   "id": "dc82365e-2e50-4a31-a2d1-b0284e179033",
   "metadata": {
    "jupyter": {
     "source_hidden": true
    }
   },
   "outputs": [],
   "source": []
  },
  {
   "cell_type": "markdown",
   "id": "d5a7e4fd-a9a1-48d5-bdda-da202b66cd93",
   "metadata": {
    "editable": true,
    "nbgrader": {
     "cell_type": "markdown",
     "checksum": "2e18601908f9b79b143461ca283ebc9d",
     "grade": false,
     "grade_id": "register-header",
     "locked": true,
     "schema_version": 3,
     "solution": false,
     "task": false
    }
   },
   "source": [
    "## Problem 8  - State\n",
    "> We can use registers to store state across multiple cycles. In Chisel, to build registers we use `Reg` as well as `RegNext` and `RegInit` ([more info](https://www.chisel-lang.org/chisel3/docs/explanations/sequential-circuits.html)). Fill in the `Delay2` module such that `out` signal is equal to the `in` signal delayed by 2 cycles."
   ]
  },
  {
   "cell_type": "code",
   "execution_count": null,
   "id": "damaged-asbestos",
   "metadata": {
    "nbgrader": {
     "cell_type": "code",
     "checksum": "2510ffc5837458a4086ba03c17f22c91",
     "grade": false,
     "grade_id": "delay2",
     "locked": false,
     "schema_version": 3,
     "solution": true,
     "task": false
    }
   },
   "outputs": [],
   "source": [
    "class Delay2 extends Module {\n",
    "    val io = IO(new Bundle {\n",
    "        val in  = Input(UInt(5.W))\n",
    "        val out = Output(UInt(5.W))\n",
    "    })\n",
    "    \n",
    "    // YOUR CODE HERE\n",
    "    ???\n",
    "}"
   ]
  },
  {
   "cell_type": "code",
   "execution_count": null,
   "id": "embedded-division",
   "metadata": {
    "editable": true,
    "nbgrader": {
     "cell_type": "code",
     "checksum": "f1f9a1d618da2416d2a5289d75b86521",
     "grade": true,
     "grade_id": "test-delay2",
     "locked": true,
     "points": 2,
     "schema_version": 3,
     "solution": false,
     "task": false
    }
   },
   "outputs": [],
   "source": [
    "def testDelay2: Boolean = {\n",
    "    test(new Delay2) { dut =>\n",
    "        // Cycle0\n",
    "        dut.io.in.poke(5.U)\n",
    "        dut.io.out.expect(0.U)\n",
    "        dut.clock.step(1)\n",
    "\n",
    "        // Cycle1\n",
    "        dut.io.in.poke(4.U)\n",
    "        dut.io.out.expect(0.U)\n",
    "        dut.clock.step(1)\n",
    "\n",
    "        // Cycle2\n",
    "        dut.io.in.poke(3.U)\n",
    "        dut.io.out.expect(5.U)\n",
    "        dut.clock.step(1)\n",
    "\n",
    "        // Cycle3\n",
    "        dut.io.out.expect(4.U)\n",
    "        dut.clock.step(1)\n",
    "\n",
    "        // Cycle4\n",
    "        dut.io.out.expect(3.U)\n",
    "        dut.clock.step(1)\n",
    "    }\n",
    "    true\n",
    "}\n",
    "assert(testDelay2)"
   ]
  },
  {
   "cell_type": "markdown",
   "id": "56acfa8a-df72-4cdf-8352-fd7b1e8c3e73",
   "metadata": {
    "editable": true,
    "nbgrader": {
     "cell_type": "markdown",
     "checksum": "a96f741f0e1ab10e5e401e45cc01efee",
     "grade": false,
     "grade_id": "accum-header",
     "locked": true,
     "schema_version": 3,
     "solution": false,
     "task": false
    }
   },
   "source": [
    "## Problem 9  - Accumulator\n",
    "> Let's build an _accumulator_. Each cycle `en` is high, it will add `in` to it's internal total. The internal total is visible as the output `out`. The internal total should initialize to 0 on reset."
   ]
  },
  {
   "cell_type": "code",
   "execution_count": null,
   "id": "relative-simulation",
   "metadata": {
    "nbgrader": {
     "cell_type": "code",
     "checksum": "a524d73d5a1264e27c9fa8f5158e2e87",
     "grade": false,
     "grade_id": "Accumulator",
     "locked": false,
     "schema_version": 3,
     "solution": true,
     "task": false
    }
   },
   "outputs": [],
   "source": [
    "class Accumulator(w: Int) extends Module {\n",
    "    val io = IO(new Bundle {\n",
    "        val in  = Input(UInt(w.W))\n",
    "        val en  = Input(Bool())\n",
    "        val out = Output(UInt(w.W))\n",
    "    })\n",
    "    \n",
    "    // YOUR CODE HERE\n",
    "    ???\n",
    "    \n",
    "}"
   ]
  },
  {
   "cell_type": "code",
   "execution_count": null,
   "id": "trained-tuition",
   "metadata": {
    "editable": true,
    "nbgrader": {
     "cell_type": "code",
     "checksum": "9ca74ffa35a947b0de69c0ef001131d0",
     "grade": true,
     "grade_id": "test-accumulator",
     "locked": true,
     "points": 3,
     "schema_version": 3,
     "solution": false,
     "task": false
    }
   },
   "outputs": [],
   "source": [
    "def testAccumulator: Boolean = {\n",
    "    test(new Accumulator(4)) { dut =>\n",
    "        // Cycle 0\n",
    "        dut.io.in.poke(0.U)\n",
    "        dut.io.en.poke(0.B)\n",
    "        dut.clock.step(1)\n",
    "        dut.io.out.expect(0.U)\n",
    "\n",
    "        // Cycle 1\n",
    "        dut.io.in.poke(0.U)\n",
    "        dut.io.en.poke(0.B)\n",
    "        dut.clock.step(1)\n",
    "        dut.io.out.expect(0.U)\n",
    "\n",
    "        // Cycle 2\n",
    "        dut.io.in.poke(3.U)\n",
    "        dut.io.en.poke(0.B)\n",
    "        dut.clock.step(1)\n",
    "        dut.io.out.expect(0.U)\n",
    "\n",
    "        // Cycle 3\n",
    "        dut.io.in.poke(3.U)\n",
    "        dut.io.en.poke(1.B)\n",
    "        dut.clock.step(1)\n",
    "        dut.io.out.expect(3.U)\n",
    "\n",
    "        // Cycle 3\n",
    "        dut.io.in.poke(4.U)\n",
    "        dut.io.en.poke(1.B)\n",
    "        dut.clock.step(1)\n",
    "        dut.io.out.expect(7.U)        \n",
    "    }\n",
    "    true\n",
    "}\n",
    "assert(testAccumulator)"
   ]
  },
  {
   "cell_type": "markdown",
   "id": "4428151e-4c6f-4c95-a32c-ff3c79106753",
   "metadata": {
    "editable": true,
    "jupyter": {
     "source_hidden": true
    },
    "nbgrader": {
     "cell_type": "markdown",
     "checksum": "b01d682c5a42855b41635303e9971ffc",
     "grade": false,
     "grade_id": "chiselvec-header",
     "locked": true,
     "schema_version": 3,
     "solution": false,
     "task": false
    }
   },
   "source": [
    "# Problem 10  - Using a Vec to Implement a Lookup Table\n",
    "> Vecs allow us to dynamically index into a Chisel collection during operation in the generated hardware.\n",
    "\n",
    "> In the problem, we use a Vec to implement a _lookup table_, which is a read-only memory (ROM) that holds precomputed results. The `SquareTable` module we provide below produces the result of squaring its input. However, the generated hardware contains only the lookup table because the multiplication is done at generation time. As a first implementation, we hardcode the IO widths and table size.\n",
    "\n",
    "> Fill in the tester `testSquareTable` to exhaustively test all of `SquareTable`'s inputs (hint: there are 32)."
   ]
  },
  {
   "cell_type": "code",
   "execution_count": null,
   "id": "random-marijuana",
   "metadata": {
    "editable": true,
    "nbgrader": {
     "cell_type": "code",
     "checksum": "28ca7fe070b10993fa85049d8ad2744c",
     "grade": false,
     "grade_id": "ROM",
     "locked": true,
     "schema_version": 3,
     "solution": false,
     "task": false
    }
   },
   "outputs": [],
   "source": [
    "class SquareTable extends Module {\n",
    "    val io = IO(new Bundle {\n",
    "        val x = Input(UInt(5.W))\n",
    "        val xSquared = Output(UInt(10.W))\n",
    "    })\n",
    "    // 0.U, 1.U, ..., 31.U\n",
    "    val romData = Seq.tabulate(32)(i => (i*i).U(10.W))\n",
    "    show(s\"romData: $romData\")\n",
    "\n",
    "    val ROM: Vec[UInt] = VecInit(romData)\n",
    "    io.xSquared := ROM(io.x)\n",
    "}"
   ]
  },
  {
   "cell_type": "code",
   "execution_count": null,
   "id": "based-aggregate",
   "metadata": {
    "nbgrader": {
     "cell_type": "code",
     "checksum": "75715438818a3b598c1d7f42497b05dd",
     "grade": false,
     "grade_id": "testROM",
     "locked": false,
     "schema_version": 3,
     "solution": true,
     "task": false
    }
   },
   "outputs": [],
   "source": [
    "def testSquareTable: Boolean = {\n",
    "    test(new SquareTable) { dut =>\n",
    "        \n",
    "        // YOUR CODE HERE\n",
    "        ???\n",
    "    }\n",
    "    true\n",
    "}"
   ]
  },
  {
   "cell_type": "code",
   "execution_count": null,
   "id": "czech-payday",
   "metadata": {
    "editable": true,
    "nbgrader": {
     "cell_type": "code",
     "checksum": "de9968b4e7f062892ebd28ae6a534be6",
     "grade": true,
     "grade_id": "test-testROM",
     "locked": true,
     "points": 3,
     "schema_version": 3,
     "solution": false,
     "task": false
    }
   },
   "outputs": [],
   "source": [
    "assert(testSquareTable)"
   ]
  },
  {
   "cell_type": "markdown",
   "id": "9499738e-8c12-489b-9211-ea1c855c6705",
   "metadata": {
    "editable": true,
    "nbgrader": {
     "cell_type": "markdown",
     "checksum": "512808e707558299cef53ca6e431030b",
     "grade": false,
     "grade_id": "histo-header",
     "locked": true,
     "schema_version": 3,
     "solution": false,
     "task": false
    }
   },
   "source": [
    "## Problem 11  - Histogram\n",
    "Let's put Regs and Vecs together to build a `Histogram` generator. The generated hardware will count how often it sees each input. It will take a parameter `n`, and internally it will use `n` registers to count how often it has seen inputs (from 0 to n-1). Each cycle, the `x` input chooses which internal register to increment. The `out` output should provide the new total value that will be written into the register the next cycle. In other words, `out` immediately shows new value of the count associated with `x`."
   ]
  },
  {
   "cell_type": "code",
   "execution_count": null,
   "id": "stuffed-fighter",
   "metadata": {
    "nbgrader": {
     "cell_type": "code",
     "checksum": "7658b82bd0c394a3b6643c9c6b8b4692",
     "grade": false,
     "grade_id": "Histogram",
     "locked": false,
     "schema_version": 3,
     "solution": true,
     "task": false
    }
   },
   "outputs": [],
   "source": [
    "class Histogram(n: Int) extends Module {\n",
    "    val io = IO(new Bundle {\n",
    "        val x = Input(UInt(log2Ceil(n).W))\n",
    "        val out = Output(UInt(5.W))\n",
    "    })\n",
    "    // YOUR CODE HERE\n",
    "    ???\n",
    "}"
   ]
  },
  {
   "cell_type": "code",
   "execution_count": null,
   "id": "center-ceiling",
   "metadata": {
    "editable": true,
    "nbgrader": {
     "cell_type": "code",
     "checksum": "4f5f07b81bbe8ca0034ed7b8d03602a2",
     "grade": true,
     "grade_id": "test-histogram",
     "locked": true,
     "points": 6,
     "schema_version": 3,
     "solution": false,
     "task": false
    }
   },
   "outputs": [],
   "source": [
    "def testHistogram: Boolean = {\n",
    "    test(new Histogram(3)) { dut =>\n",
    "        // Cycle0\n",
    "        dut.io.x.poke(1.U)\n",
    "        dut.io.out.expect(1.U)\n",
    "        dut.clock.step(1)\n",
    "\n",
    "        // Cycle1\n",
    "        dut.io.x.poke(1.U)\n",
    "        dut.io.out.expect(2.U)\n",
    "        dut.clock.step(1)\n",
    "\n",
    "        dut.io.x.poke(0.U)\n",
    "        dut.io.out.expect(1.U)\n",
    "        dut.clock.step(1)\n",
    "\n",
    "        // Cycle 3\n",
    "        dut.io.x.poke(2.U)\n",
    "        dut.io.out.expect(1.U)\n",
    "    }\n",
    "    true\n",
    "}\n",
    "assert(testHistogram)"
   ]
  }
 ],
 "metadata": {
  "kernelspec": {
   "display_name": "Scala",
   "language": "scala",
   "name": "scala"
  },
  "language_info": {
   "codemirror_mode": "text/x-scala",
   "file_extension": ".sc",
   "mimetype": "text/x-scala",
   "name": "scala",
   "nbconvert_exporter": "script",
   "version": "2.12.16"
  }
 },
 "nbformat": 4,
 "nbformat_minor": 5
}
