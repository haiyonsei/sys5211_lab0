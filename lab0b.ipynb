{
 "cells": [
  {
   "cell_type": "code",
   "execution_count": null,
   "id": "0db03a9f-940d-40d8-bc90-5ec6daec3efa",
   "metadata": {},
   "outputs": [],
   "source": []
  },
  {
   "cell_type": "markdown",
   "id": "ca77755e-254d-4b27-a321-e14ecdebf4ea",
   "metadata": {
    "editable": true,
    "nbgrader": {
     "cell_type": "markdown",
     "checksum": "2e18601908f9b79b143461ca283ebc9d",
     "grade": false,
     "grade_id": "register-header",
     "locked": true,
     "schema_version": 3,
     "solution": false,
     "task": false
    }
   },
   "source": [
    "## Problem 1  - State\n",
    "> We can use registers to store state across multiple cycles. In Chisel, to build registers we use `Reg` as well as `RegNext` and `RegInit` ([more info](https://www.chisel-lang.org/chisel3/docs/explanations/sequential-circuits.html)). Fill in the `Delay2` module such that `out` signal is equal to the `in` signal delayed by 2 cycles."
   ]
  },
  {
   "cell_type": "code",
   "execution_count": null,
   "id": "4f2fa456-6c61-4e19-a581-d278322acb74",
   "metadata": {
    "nbgrader": {
     "cell_type": "code",
     "checksum": "2510ffc5837458a4086ba03c17f22c91",
     "grade": false,
     "grade_id": "delay2",
     "locked": false,
     "schema_version": 3,
     "solution": true,
     "task": false
    }
   },
   "outputs": [],
   "source": [
    "class Delay2 extends Module {\n",
    "    val io = IO(new Bundle {\n",
    "        val in  = Input(UInt(5.W))\n",
    "        val out = Output(UInt(5.W))\n",
    "    })\n",
    "    \n",
    "    // YOUR CODE HERE\n",
    "    ???\n",
    "}"
   ]
  },
  {
   "cell_type": "code",
   "execution_count": null,
   "id": "1b49b68e-9e61-42b3-aee4-dba62e3cc038",
   "metadata": {
    "editable": true,
    "nbgrader": {
     "cell_type": "code",
     "checksum": "f1f9a1d618da2416d2a5289d75b86521",
     "grade": true,
     "grade_id": "test-delay2",
     "locked": true,
     "points": 2,
     "schema_version": 3,
     "solution": false,
     "task": false
    }
   },
   "outputs": [],
   "source": [
    "def testDelay2: Boolean = {\n",
    "    test(new Delay2) { dut =>\n",
    "        // Cycle0\n",
    "        dut.io.in.poke(5.U)\n",
    "        dut.io.out.expect(0.U)\n",
    "        dut.clock.step(1)\n",
    "\n",
    "        // Cycle1\n",
    "        dut.io.in.poke(4.U)\n",
    "        dut.io.out.expect(0.U)\n",
    "        dut.clock.step(1)\n",
    "\n",
    "        // Cycle2\n",
    "        dut.io.in.poke(3.U)\n",
    "        dut.io.out.expect(5.U)\n",
    "        dut.clock.step(1)\n",
    "\n",
    "        // Cycle3\n",
    "        dut.io.out.expect(4.U)\n",
    "        dut.clock.step(1)\n",
    "\n",
    "        // Cycle4\n",
    "        dut.io.out.expect(3.U)\n",
    "        dut.clock.step(1)\n",
    "    }\n",
    "    true\n",
    "}\n",
    "assert(testDelay2)"
   ]
  },
  {
   "cell_type": "markdown",
   "id": "130989f0-558f-4b45-904f-736b530b1064",
   "metadata": {
    "editable": true,
    "nbgrader": {
     "cell_type": "markdown",
     "checksum": "a96f741f0e1ab10e5e401e45cc01efee",
     "grade": false,
     "grade_id": "accum-header",
     "locked": true,
     "schema_version": 3,
     "solution": false,
     "task": false
    }
   },
   "source": [
    "## Problem 2 - Accumulator\n",
    "> Let's build an _accumulator_. Each cycle `en` is high, it will add `in` to it's internal total. The internal total is visible as the output `out`. The internal total should initialize to 0 on reset."
   ]
  },
  {
   "cell_type": "code",
   "execution_count": null,
   "id": "0a1e05de-df4e-4b13-9b92-d00ba0171f25",
   "metadata": {
    "nbgrader": {
     "cell_type": "code",
     "checksum": "a524d73d5a1264e27c9fa8f5158e2e87",
     "grade": false,
     "grade_id": "Accumulator",
     "locked": false,
     "schema_version": 3,
     "solution": true,
     "task": false
    }
   },
   "outputs": [],
   "source": [
    "class Accumulator(w: Int) extends Module {\n",
    "    val io = IO(new Bundle {\n",
    "        val in  = Input(UInt(w.W))\n",
    "        val en  = Input(Bool())\n",
    "        val out = Output(UInt(w.W))\n",
    "    })\n",
    "    \n",
    "    // YOUR CODE HERE\n",
    "    ???\n",
    "    \n",
    "}"
   ]
  },
  {
   "cell_type": "code",
   "execution_count": null,
   "id": "afd74acb-ed61-40dd-b3dd-bf2c3992c8df",
   "metadata": {
    "editable": true,
    "nbgrader": {
     "cell_type": "code",
     "checksum": "9ca74ffa35a947b0de69c0ef001131d0",
     "grade": true,
     "grade_id": "test-accumulator",
     "locked": true,
     "points": 3,
     "schema_version": 3,
     "solution": false,
     "task": false
    }
   },
   "outputs": [],
   "source": [
    "def testAccumulator: Boolean = {\n",
    "    test(new Accumulator(4)) { dut =>\n",
    "        // Cycle 0\n",
    "        dut.io.in.poke(0.U)\n",
    "        dut.io.en.poke(0.B)\n",
    "        dut.clock.step(1)\n",
    "        dut.io.out.expect(0.U)\n",
    "\n",
    "        // Cycle 1\n",
    "        dut.io.in.poke(0.U)\n",
    "        dut.io.en.poke(0.B)\n",
    "        dut.clock.step(1)\n",
    "        dut.io.out.expect(0.U)\n",
    "\n",
    "        // Cycle 2\n",
    "        dut.io.in.poke(3.U)\n",
    "        dut.io.en.poke(0.B)\n",
    "        dut.clock.step(1)\n",
    "        dut.io.out.expect(0.U)\n",
    "\n",
    "        // Cycle 3\n",
    "        dut.io.in.poke(3.U)\n",
    "        dut.io.en.poke(1.B)\n",
    "        dut.clock.step(1)\n",
    "        dut.io.out.expect(3.U)\n",
    "\n",
    "        // Cycle 3\n",
    "        dut.io.in.poke(4.U)\n",
    "        dut.io.en.poke(1.B)\n",
    "        dut.clock.step(1)\n",
    "        dut.io.out.expect(7.U)        \n",
    "    }\n",
    "    true\n",
    "}\n",
    "assert(testAccumulator)"
   ]
  },
  {
   "cell_type": "markdown",
   "id": "31170ae8-b79d-4754-9544-b3bca4a72425",
   "metadata": {
    "editable": true,
    "nbgrader": {
     "cell_type": "markdown",
     "checksum": "de1c5f51f618103e8e519c527afd9c83",
     "grade": false,
     "grade_id": "cell-4310bf1dd699ea36",
     "locked": true,
     "schema_version": 3,
     "solution": false,
     "task": false
    }
   },
   "source": [
    "## Problem 3  - Scala Loops\n",
    "> To familiarize ourselves with looping in Scala, we will attempt a variant of the game [_Fizz buzz_](https://en.wikipedia.org/wiki/Fizz_buzz):\n",
    "\n",
    "* _*Count*_ from 1 until `max` (exclusive)\n",
    "* Maintain three sums: `fizz`, `buzz`, and `fizzbuzz`\n",
    "* If the current count is divisible by ...\n",
    "    * _15_ $\\rightarrow$ add count to `fizzbuzz`\n",
    "    * _5_ $\\rightarrow$ add count to `buzz`\n",
    "    * _3_ $\\rightarrow$ add count to `fizz`\n",
    "    * Add to the sums with the precedence rules given, so for example, if the count is _15_, only add to `fizzbuzz`."
   ]
  },
  {
   "cell_type": "code",
   "execution_count": null,
   "id": "e7fc8f52-847e-4b5e-8cf2-08d1a5812f3d",
   "metadata": {
    "nbgrader": {
     "cell_type": "code",
     "checksum": "42cd82189dad27ed01672b7977fbac52",
     "grade": false,
     "grade_id": "fizzbuzz",
     "locked": false,
     "schema_version": 3,
     "solution": true,
     "task": false
    }
   },
   "outputs": [],
   "source": [
    "def fizzbuzz(max: Int): (Int, Int, Int) = {\n",
    "    var (fizz, buzz, fizzbuzz) = (0, 0, 0)\n",
    "\n",
    "    // YOUR CODE HERE\n",
    "    ???\n",
    "}\n",
    "\n",
    "fizzbuzz(20)"
   ]
  },
  {
   "cell_type": "code",
   "execution_count": null,
   "id": "d5d3e023-e6e4-4dec-98d0-3570b4dfed65",
   "metadata": {
    "editable": true,
    "nbgrader": {
     "cell_type": "code",
     "checksum": "9eb20fe315e887c98c9c0d5d8b17ff51",
     "grade": true,
     "grade_id": "testfizzbuzz",
     "locked": true,
     "points": 4,
     "schema_version": 3,
     "solution": false,
     "task": false
    }
   },
   "outputs": [],
   "source": [
    "assert(fizzbuzz(2) == (0, 0, 0))\n",
    "assert(fizzbuzz(20) == (48, 15, 15))\n",
    "assert(fizzbuzz(35) == (153, 60, 45))\n"
   ]
  },
  {
   "cell_type": "markdown",
   "id": "3ece574c-17e5-4992-8edd-4003e0cb0c98",
   "metadata": {
    "editable": true,
    "nbgrader": {
     "cell_type": "markdown",
     "checksum": "b01d682c5a42855b41635303e9971ffc",
     "grade": false,
     "grade_id": "chiselvec-header",
     "locked": true,
     "schema_version": 3,
     "solution": false,
     "task": false
    }
   },
   "source": [
    "## Problem 4 - Using a Vec to Implement a Lookup Table\n",
    "> Vecs allow us to dynamically index into a Chisel collection during operation in the generated hardware.\n",
    "\n",
    "> In the problem, we use a Vec to implement a _lookup table_, which is a read-only memory (ROM) that holds precomputed results. The `SquareTable` module we provide below produces the result of squaring its input. However, the generated hardware contains only the lookup table because the multiplication is done at generation time. As a first implementation, we hardcode the IO widths and table size.\n",
    "\n",
    "> Fill in the tester `testSquareTable` to exhaustively test all of `SquareTable`'s inputs (hint: there are 32)."
   ]
  },
  {
   "cell_type": "code",
   "execution_count": null,
   "id": "9f5c2d6a-194d-4a93-9566-80a678fa18ec",
   "metadata": {
    "editable": true,
    "nbgrader": {
     "cell_type": "code",
     "checksum": "28ca7fe070b10993fa85049d8ad2744c",
     "grade": false,
     "grade_id": "ROM",
     "locked": true,
     "schema_version": 3,
     "solution": false,
     "task": false
    }
   },
   "outputs": [],
   "source": [
    "class SquareTable extends Module {\n",
    "    val io = IO(new Bundle {\n",
    "        val x = Input(UInt(5.W))\n",
    "        val xSquared = Output(UInt(10.W))\n",
    "    })\n",
    "    // 0.U, 1.U, ..., 31.U\n",
    "    val romData = Seq.tabulate(32)(i => (i*i).U(10.W))\n",
    "    show(s\"romData: $romData\")\n",
    "\n",
    "    val ROM: Vec[UInt] = VecInit(romData)\n",
    "    io.xSquared := ROM(io.x)\n",
    "}"
   ]
  },
  {
   "cell_type": "code",
   "execution_count": null,
   "id": "242f7ff2-5929-4deb-978b-d7cd4eccb646",
   "metadata": {
    "nbgrader": {
     "cell_type": "code",
     "checksum": "75715438818a3b598c1d7f42497b05dd",
     "grade": false,
     "grade_id": "testROM",
     "locked": false,
     "schema_version": 3,
     "solution": true,
     "task": false
    }
   },
   "outputs": [],
   "source": [
    "def testSquareTable: Boolean = {\n",
    "    test(new SquareTable) { dut =>\n",
    "        \n",
    "        // YOUR CODE HERE\n",
    "        ???\n",
    "    }\n",
    "    true\n",
    "}"
   ]
  },
  {
   "cell_type": "code",
   "execution_count": null,
   "id": "d92a0752-55ec-4cb9-a35c-b5ed28331f22",
   "metadata": {
    "editable": true,
    "nbgrader": {
     "cell_type": "code",
     "checksum": "de9968b4e7f062892ebd28ae6a534be6",
     "grade": true,
     "grade_id": "test-testROM",
     "locked": true,
     "points": 3,
     "schema_version": 3,
     "solution": false,
     "task": false
    }
   },
   "outputs": [],
   "source": [
    "assert(testSquareTable)"
   ]
  },
  {
   "cell_type": "markdown",
   "id": "de645f5b-e278-4730-9aab-cfc54b846008",
   "metadata": {
    "editable": true,
    "nbgrader": {
     "cell_type": "markdown",
     "checksum": "3bff608cf0108fe2bd757b08c5c9f4ed",
     "grade": false,
     "grade_id": "chiselvec2-header",
     "locked": true,
     "schema_version": 3,
     "solution": false,
     "task": false
    }
   },
   "source": [
    "## Problem 5 - Parameterizing SquareTable\n",
    "In this problem, we will revise the module `SquareTable` from the previous problem to make the number of entries parameterized. First, ensure your tester `testSquareTable` is complete and correct first because it will help you with this problem too. Write a `SquareTable2` module below that takes a Scala Int `nEntries` as a parameter. `SquareTable2` will generate a lookup table (read-only UInts stored as a `Vec`) of nEntries entries. The output `xSquared` should be the result of squaring the input `x`. The table will support inputs from 0 to nEntries-1 (inclusive). Ensure the widths are correct, namely that x is wide enough to handle all inputs (hint: consider log2Ceil), and xSquared is sufficiently wide to not loose any data. `SquareTable2` behaves the same as `SquareTable`, except its size is a configurable parameter. You will also need to revise your tester (create `testSquareTable2`) so it is parameterized too."
   ]
  },
  {
   "cell_type": "code",
   "execution_count": null,
   "id": "bb116aaf-c1dd-49f6-8150-71546bac361e",
   "metadata": {
    "nbgrader": {
     "cell_type": "code",
     "checksum": "e590d7da3f90a4b47be66c70621f8dda",
     "grade": false,
     "grade_id": "Rom2",
     "locked": false,
     "schema_version": 3,
     "solution": true,
     "task": false
    }
   },
   "outputs": [],
   "source": [
    "// YOUR CODE HERE\n",
    "???"
   ]
  },
  {
   "cell_type": "code",
   "execution_count": null,
   "id": "f6ed3ed3-d8ab-4c6e-b1f7-e2945a45b18b",
   "metadata": {
    "nbgrader": {
     "cell_type": "code",
     "checksum": "60c4afa0dfba3ad4f48943cd110a8aef",
     "grade": false,
     "grade_id": "testRom2",
     "locked": false,
     "schema_version": 3,
     "solution": true,
     "task": false
    }
   },
   "outputs": [],
   "source": [
    "def testSquareTable2: Boolean = {\n",
    "    for (nEntries <- Seq(4, 5, 10, 30)) {\n",
    "        test(new SquareTable2(nEntries)) { dut =>\n",
    "\n",
    "            // YOUR CODE HERE\n",
    "            ???\n",
    "        }\n",
    "    }\n",
    "    true\n",
    "}"
   ]
  },
  {
   "cell_type": "code",
   "execution_count": null,
   "id": "ccee7ae4-08b5-48c1-8a72-608b68142bac",
   "metadata": {
    "editable": true,
    "nbgrader": {
     "cell_type": "code",
     "checksum": "e019d97a4c30465af9e67ad55ea191c1",
     "grade": true,
     "grade_id": "test-testRom2",
     "locked": true,
     "points": 5,
     "schema_version": 3,
     "solution": false,
     "task": false
    }
   },
   "outputs": [],
   "source": [
    "assert(testSquareTable2)\n"
   ]
  },
  {
   "cell_type": "markdown",
   "id": "711bfc84-8d0e-4d94-b9cf-213431419b85",
   "metadata": {
    "editable": true,
    "nbgrader": {
     "cell_type": "markdown",
     "checksum": "ef4decaa41cf83e2bf24348747bd69ab",
     "grade": false,
     "grade_id": "scalafunc-header",
     "locked": true,
     "schema_version": 3,
     "solution": false,
     "task": false
    }
   },
   "source": [
    "## Problem 6 - Scala functions\n",
    "> We can write Chisel logic within a Scala function and use them within our modules.\n",
    "\n",
    "> Write a Scala function named `sum` that takes two UInts as arguments and returns the sum (with width growth). You might find the [Chisel Cheat Sheet](https://github.com/freechipsproject/chisel-cheatsheet/releases/latest/download/chisel_cheatsheet.pdf) a helpful reference."
   ]
  },
  {
   "cell_type": "code",
   "execution_count": null,
   "id": "8e38089e-1846-4c57-b44b-29d1a3e51bdc",
   "metadata": {
    "nbgrader": {
     "cell_type": "code",
     "checksum": "6c992528fce61fcdf10291ca6b6592af",
     "grade": false,
     "grade_id": "ScalaCondPractice",
     "locked": false,
     "schema_version": 3,
     "solution": true,
     "task": false
    }
   },
   "outputs": [],
   "source": [
    "// YOUR CODE HERE\n",
    "???"
   ]
  },
  {
   "cell_type": "code",
   "execution_count": null,
   "id": "01b57763-1141-4696-8c4b-db22f7a04c1f",
   "metadata": {
    "editable": true,
    "nbgrader": {
     "cell_type": "code",
     "checksum": "b95cc90c550f2ca608e9769af5fc9471",
     "grade": true,
     "grade_id": "testSum",
     "locked": true,
     "points": 2,
     "schema_version": 3,
     "solution": false,
     "task": false
    }
   },
   "outputs": [],
   "source": [
    "def testSum(): Boolean = {\n",
    "    test(new Module {\n",
    "            val io = IO(new Bundle {\n",
    "                val in1 = Input(UInt(4.W))\n",
    "                val in2 = Input(UInt(4.W))\n",
    "                val out = Output(UInt())\n",
    "            })\n",
    "            io.out := sum(io.in1, io.in2)\n",
    "        }) { dut => \n",
    "            for (in1 <- 0 until 16) {\n",
    "                for (in2 <- 0 until 16) {\n",
    "                    dut.io.in1.poke(in1.U)\n",
    "                    dut.io.in2.poke(in2.U)\n",
    "                    dut.io.out.expect((in1 + in2).U)\n",
    "                }\n",
    "            }\n",
    "    }\n",
    "    true\n",
    "}\n",
    "\n",
    "assert(testSum)"
   ]
  },
  {
   "cell_type": "markdown",
   "id": "c1e4a290-aaa9-45c2-9618-477ca867fca2",
   "metadata": {
    "editable": true,
    "nbgrader": {
     "cell_type": "markdown",
     "checksum": "512808e707558299cef53ca6e431030b",
     "grade": false,
     "grade_id": "histo-header",
     "locked": true,
     "schema_version": 3,
     "solution": false,
     "task": false
    }
   },
   "source": [
    "## Problem 7 - Histogram\n",
    "Let's put Regs and Vecs together to build a `Histogram` generator. The generated hardware will count how often it sees each input. It will take a parameter `n`, and internally it will use `n` registers to count how often it has seen inputs (from 0 to n-1). Each cycle, the `x` input chooses which internal register to increment. The `out` output should provide the new total value that will be written into the register the next cycle. In other words, `out` immediately shows new value of the count associated with `x`."
   ]
  },
  {
   "cell_type": "code",
   "execution_count": null,
   "id": "aa331a24-4f1a-4b08-8bf3-09bf99548cee",
   "metadata": {
    "nbgrader": {
     "cell_type": "code",
     "checksum": "7658b82bd0c394a3b6643c9c6b8b4692",
     "grade": false,
     "grade_id": "Histogram",
     "locked": false,
     "schema_version": 3,
     "solution": true,
     "task": false
    }
   },
   "outputs": [],
   "source": [
    "class Histogram(n: Int) extends Module {\n",
    "    val io = IO(new Bundle {\n",
    "        val x = Input(UInt(log2Ceil(n).W))\n",
    "        val out = Output(UInt(5.W))\n",
    "    })\n",
    "    // YOUR CODE HERE\n",
    "    ???\n",
    "}"
   ]
  },
  {
   "cell_type": "code",
   "execution_count": null,
   "id": "756c2ac5-8939-475c-a1fb-7436d4852d1e",
   "metadata": {
    "editable": true,
    "nbgrader": {
     "cell_type": "code",
     "checksum": "4f5f07b81bbe8ca0034ed7b8d03602a2",
     "grade": true,
     "grade_id": "test-histogram",
     "locked": true,
     "points": 6,
     "schema_version": 3,
     "solution": false,
     "task": false
    }
   },
   "outputs": [],
   "source": [
    "def testHistogram: Boolean = {\n",
    "    test(new Histogram(3)) { dut =>\n",
    "        // Cycle0\n",
    "        dut.io.x.poke(1.U)\n",
    "        dut.io.out.expect(1.U)\n",
    "        dut.clock.step(1)\n",
    "\n",
    "        // Cycle1\n",
    "        dut.io.x.poke(1.U)\n",
    "        dut.io.out.expect(2.U)\n",
    "        dut.clock.step(1)\n",
    "\n",
    "        dut.io.x.poke(0.U)\n",
    "        dut.io.out.expect(1.U)\n",
    "        dut.clock.step(1)\n",
    "\n",
    "        // Cycle 3\n",
    "        dut.io.x.poke(2.U)\n",
    "        dut.io.out.expect(1.U)\n",
    "    }\n",
    "    true\n",
    "}\n",
    "assert(testHistogram)"
   ]
  },
  {
   "cell_type": "markdown",
   "id": "d7de4715-5b0f-4fbf-a11d-0a4349d44d09",
   "metadata": {
    "editable": true,
    "nbgrader": {
     "cell_type": "markdown",
     "checksum": "4208627794cf8c7f735def38dfa5c515",
     "grade": false,
     "grade_id": "prob1-header",
     "locked": true,
     "schema_version": 3,
     "solution": false,
     "task": false
    }
   },
   "source": [
    "## Problem 8 - Seq addition\n",
    "> Use Scala `zip` and `map` to add the contents of two `Seq`s (element by element)."
   ]
  },
  {
   "cell_type": "code",
   "execution_count": null,
   "id": "ca761016-0a51-4278-9164-da5e17db3024",
   "metadata": {
    "nbgrader": {
     "cell_type": "code",
     "checksum": "f64dacbdff80d8a428cff3bc5e78a47e",
     "grade": false,
     "grade_id": "prob1",
     "locked": false,
     "schema_version": 3,
     "solution": true,
     "task": false
    }
   },
   "outputs": [],
   "source": [
    "def addSeqs(a: Seq[Int], b: Seq[Int]): Seq[Int] = {\n",
    "    // YOUR CODE HERE\n",
    "    ???\n",
    "}"
   ]
  },
  {
   "cell_type": "code",
   "execution_count": null,
   "id": "e87eff34-6aef-4418-bace-a5d57de24bfd",
   "metadata": {
    "editable": true,
    "nbgrader": {
     "cell_type": "code",
     "checksum": "5e08a3fbd3d6a86a4b301997ca8c90d0",
     "grade": true,
     "grade_id": "prob1-test",
     "locked": true,
     "points": 3,
     "schema_version": 3,
     "solution": false,
     "task": false
    }
   },
   "outputs": [],
   "source": [
    "val a = Seq.tabulate(8)(_.toInt)\n",
    "val b = Seq.tabulate(8)(_.toInt)\n",
    "assert(addSeqs(a, b) == Seq(0, 2, 4, 6, 8, 10, 12, 14))\n"
   ]
  },
  {
   "cell_type": "markdown",
   "id": "494aa3f0-8bef-4c37-af2e-736dd88deadf",
   "metadata": {
    "editable": true,
    "nbgrader": {
     "cell_type": "markdown",
     "checksum": "a1229708768ffa9592ecb2a2bb066c70",
     "grade": false,
     "grade_id": "prob2-header",
     "locked": true,
     "schema_version": 3,
     "solution": false,
     "task": false
    }
   },
   "source": [
    "## Problem 9  - foreach with Chisel\n",
    "> The `VecRotate` module below shifts its input `Vec` by a constant `offset` (wraps around). Complete it by using `foreach`. You may find the Scala methods `drop` and `take` helpful."
   ]
  },
  {
   "cell_type": "code",
   "execution_count": null,
   "id": "64bf4e59-537c-44d0-8534-c8a9ca248d9f",
   "metadata": {
    "nbgrader": {
     "cell_type": "code",
     "checksum": "9497d51b8b579ad3b49658c50ee35ddf",
     "grade": false,
     "grade_id": "prob2",
     "locked": false,
     "schema_version": 3,
     "solution": true,
     "task": false
    }
   },
   "outputs": [],
   "source": [
    "class VecRotate(numElems: Int, width: Int, offset: Int) extends Module {\n",
    "    val io = IO(new Bundle {\n",
    "        val in  = Input(Vec(numElems, UInt(width.W)))\n",
    "        val out = Output(Vec(numElems, UInt(width.W)))\n",
    "    })\n",
    "    val rotated = io.in.drop(offset) ++ io.in.take(offset)\n",
    "    // YOUR CODE HERE\n",
    "    ???\n",
    "}"
   ]
  },
  {
   "cell_type": "code",
   "execution_count": null,
   "id": "dcf846b4-21fc-4e1a-8134-f10a1edb0989",
   "metadata": {
    "editable": true,
    "nbgrader": {
     "cell_type": "code",
     "checksum": "cef2ceebd7f927668dc6c055a9a3f3d7",
     "grade": true,
     "grade_id": "prob2-tests",
     "locked": true,
     "points": 0,
     "schema_version": 3,
     "solution": false,
     "task": false
    }
   },
   "outputs": [],
   "source": [
    "def testVecRotate(numElems: Int, width: Int): Boolean = {\n",
    "    for (offset <- 0 until numElems) {\n",
    "        val input = 0 until numElems\n",
    "        val expected = input.drop(offset) ++ input.take(offset)\n",
    "        test(new VecRotate(numElems, width, offset)) { dut =>\n",
    "            (0 until numElems).foreach{ i => dut.io.in(i).poke(input(i).U) }\n",
    "            (0 until numElems).foreach{ i => dut.io.out(i).expect(expected(i).U) }\n",
    "        }\n",
    "    }\n",
    "    true\n",
    "}\n",
    "\n",
    "assert(testVecRotate(4,8))"
   ]
  },
  {
   "cell_type": "markdown",
   "id": "32d02cae-aa23-47ad-9060-56810df92559",
   "metadata": {
    "editable": true,
    "nbgrader": {
     "cell_type": "markdown",
     "checksum": "7f4c3cc5f9fdbc86f54b96cbdd9734e6",
     "grade": false,
     "grade_id": "prob3-header",
     "locked": true,
     "schema_version": 3,
     "solution": false,
     "task": false
    }
   },
   "source": [
    "# Problem 10  - zipWithIndex\n",
    "> First, use `foldLeft` to implement the `exp` function (computes exponent). Then use `zipWithIndex`, `map`, `exp`, and `reduce`/`foldLeft` to concisely evaluate a polynomial. The index in the sequence is the degree in the polynomial (e.g. _coefs(i) * x^i_)"
   ]
  },
  {
   "cell_type": "code",
   "execution_count": null,
   "id": "dc522ab6-35c0-4857-98a7-6cbc6aeaab73",
   "metadata": {
    "nbgrader": {
     "cell_type": "code",
     "checksum": "e611f5f21719c38d7e0ecaa9e84b375c",
     "grade": false,
     "grade_id": "prob3",
     "locked": false,
     "schema_version": 3,
     "solution": true,
     "task": false
    }
   },
   "outputs": [],
   "source": [
    "def exp(base: Int, deg: Int): Int = {\n",
    "    // YOUR CODE HERE\n",
    "    ???\n",
    "}\n",
    "\n",
    "def polyEval(coefs: Seq[Int], x: Int): Int = {\n",
    "    // YOUR CODE HERE\n",
    "    ???\n",
    "}"
   ]
  },
  {
   "cell_type": "code",
   "execution_count": null,
   "id": "b5c534f8-670d-4d4e-8429-d09609414887",
   "metadata": {
    "editable": true,
    "nbgrader": {
     "cell_type": "code",
     "checksum": "c8fe512c56ebd69d4780c4849b74a79d",
     "grade": true,
     "grade_id": "prob3-test",
     "locked": true,
     "points": 6,
     "schema_version": 3,
     "solution": false,
     "task": false
    }
   },
   "outputs": [],
   "source": [
    "assert (exp(5, 0) == 1)\n",
    "assert (exp(2, 5) == 32)\n",
    "assert (exp(4, 3) == 64)\n",
    "// 0*x^0 + 1*x^1 + 2*x^2\n",
    "assert(polyEval(Seq(0, 1, 2), 5) == 55)\n",
    "assert(polyEval(Seq(0, 1, 2), 0) == 0)\n"
   ]
  },
  {
   "cell_type": "markdown",
   "id": "8cd174f9-6f9d-4b89-83ec-b543736b5739",
   "metadata": {
    "editable": true,
    "nbgrader": {
     "cell_type": "markdown",
     "checksum": "81e79a08a531cff70405b88dadcc3954",
     "grade": false,
     "grade_id": "prob4-header",
     "locked": true,
     "schema_version": 3,
     "solution": false,
     "task": false
    }
   },
   "source": [
    "## Problem 11 - map on matrix\n",
    "> Given a `n` x `n` matrix (`Seq[Seq[Int]]`), use `map` and `zipWithIndex` to add `x` to the diagonal (other cells unchanged). For this function `incDiag`, the matrix is in row-major order. For example if `x=4`: \n",
    "``` \n",
    "    List(1, 1, 1, 1, 1) -> List(5, 1, 1, 1, 1)\n",
    "    List(1, 1, 1, 1, 1) -> List(1, 5, 1, 1, 1)\n",
    "    List(1, 1, 1, 1, 1) -> List(1, 1, 5, 1, 1)\n",
    "    List(1, 1, 1, 1, 1) -> List(1, 1, 1, 5, 1)\n",
    "    List(1, 1, 1, 1, 1) -> List(1, 1, 1, 1, 5)\n",
    "```"
   ]
  },
  {
   "cell_type": "code",
   "execution_count": null,
   "id": "5f519064-bb4e-4615-bf91-d528b4046d51",
   "metadata": {
    "nbgrader": {
     "cell_type": "code",
     "checksum": "439faeb3471edcae0eb83285495001b1",
     "grade": false,
     "grade_id": "prob4",
     "locked": false,
     "schema_version": 3,
     "solution": true,
     "task": false
    }
   },
   "outputs": [],
   "source": [
    "// YOUR CODE HERE\n",
    "???"
   ]
  },
  {
   "cell_type": "code",
   "execution_count": null,
   "id": "e7f49272-5729-40ce-8144-415b775edde8",
   "metadata": {
    "editable": true,
    "nbgrader": {
     "cell_type": "code",
     "checksum": "8d1ce9d3ec8701d612537cc684ec6faf",
     "grade": true,
     "grade_id": "prob4-test",
     "locked": true,
     "points": 6,
     "schema_version": 3,
     "solution": false,
     "task": false
    }
   },
   "outputs": [],
   "source": [
    "val in = List(\n",
    "  List(1, 1, 1, 1, 1),\n",
    "  List(1, 1, 1, 1, 1),\n",
    "  List(1, 1, 1, 1, 1),\n",
    "  List(1, 1, 1, 1, 1),\n",
    "  List(1, 1, 1, 1, 1)\n",
    ")\n",
    "\n",
    "val out = List(\n",
    "  List(5, 1, 1, 1, 1),\n",
    "  List(1, 5, 1, 1, 1),\n",
    "  List(1, 1, 5, 1, 1),\n",
    "  List(1, 1, 1, 5, 1),\n",
    "  List(1, 1, 1, 1, 5)\n",
    ")\n",
    "assert(incDiag(in, 4) == out)\n",
    "\n"
   ]
  },
  {
   "cell_type": "markdown",
   "id": "894b65c8-d558-4c9a-b48b-bf307c01b916",
   "metadata": {
    "editable": true,
    "nbgrader": {
     "cell_type": "markdown",
     "checksum": "d8b66a48301b983c704f318fe2da3639",
     "grade": false,
     "grade_id": "prob5-header",
     "locked": true,
     "schema_version": 3,
     "solution": false,
     "task": false
    }
   },
   "source": [
    "## Problem 12 - flatMap and reduce with Chisel\n",
    "> Let's put together what we've covered to make a Chisel module. Complete the `MatrixSearch` module below that looks for the input `searchFor` by comparing all of the elements of the input matrix `mat` (2D `Vec`). If (and only if) `searchFor` matches any of the elements in `mat`, the output `found` should be _true_. Your solution should use `flatMap`, `reduce`, and possibly `map`."
   ]
  },
  {
   "cell_type": "code",
   "execution_count": null,
   "id": "a6b44515-cc34-4308-b5e1-1602283711c5",
   "metadata": {
    "nbgrader": {
     "cell_type": "code",
     "checksum": "b89e5cf33cf24e619f805cf0c6756b39",
     "grade": false,
     "grade_id": "prob5",
     "locked": false,
     "schema_version": 3,
     "solution": true,
     "task": false
    }
   },
   "outputs": [],
   "source": [
    "class MatrixSearch(numRows: Int, numCols: Int, width: Int) extends Module {\n",
    "    require(numRows > 1)\n",
    "    require(numCols > 1)\n",
    "    val io = IO(new Bundle {\n",
    "        val mat = Input(Vec(numRows, Vec(numCols, UInt(width.W))))\n",
    "        val searchFor = Input(UInt(width.W))\n",
    "        val found = Output(Bool())\n",
    "    })\n",
    "    // YOUR CODE HERE\n",
    "    ???\n",
    "}"
   ]
  },
  {
   "cell_type": "code",
   "execution_count": null,
   "id": "06156546-11be-48cd-bb90-3fc6a6257548",
   "metadata": {
    "editable": true,
    "nbgrader": {
     "cell_type": "code",
     "checksum": "ffea5325026b1ced5a8136b2295056c5",
     "grade": true,
     "grade_id": "prob5-test",
     "locked": true,
     "points": 10,
     "schema_version": 3,
     "solution": false,
     "task": false
    }
   },
   "outputs": [],
   "source": [
    "def testMatrixSearch(numRows: Int, numCols: Int, width: Int): Boolean = {\n",
    "    require(log2Ceil(numRows) < width)\n",
    "    test(new MatrixSearch(numRows, numCols, width)) { dut =>\n",
    "        (0 until numRows) foreach {\n",
    "             r => (0 until numCols) foreach { \n",
    "                c => dut.io.mat(r)(c).poke(r.U)\n",
    "            }\n",
    "        }\n",
    "        for (r <- 0 until numRows) {\n",
    "            dut.io.searchFor.poke(r.U)\n",
    "            dut.io.found.expect(true.B)\n",
    "        }\n",
    "        dut.io.searchFor.poke(numRows.U)\n",
    "        dut.io.found.expect(false.B)\n",
    "    }\n",
    "    true\n",
    "}\n",
    "\n",
    "assert(testMatrixSearch(2,2,8))\n"
   ]
  }
 ],
 "metadata": {
  "kernelspec": {
   "display_name": "Scala",
   "language": "scala",
   "name": "scala"
  },
  "language_info": {
   "codemirror_mode": "text/x-scala",
   "file_extension": ".sc",
   "mimetype": "text/x-scala",
   "name": "scala",
   "nbconvert_exporter": "script",
   "version": "2.13.14"
  }
 },
 "nbformat": 4,
 "nbformat_minor": 5
}
